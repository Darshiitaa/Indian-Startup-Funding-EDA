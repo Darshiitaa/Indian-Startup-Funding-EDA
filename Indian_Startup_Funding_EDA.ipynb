{
 "cells": [
  {
   "cell_type": "code",
   "execution_count": 7,
   "id": "def4af96-c28a-479b-be8c-50fbf3abbab7",
   "metadata": {},
   "outputs": [],
   "source": [
    "import pandas as pd\n",
    "import numpy as np\n",
    "import matplotlib.pyplot as plt\n",
    "import seaborn as sns\n",
    "import plotly.express as px\n",
    "from collections import Counter\n",
    "\n",
    "\n",
    "# For better visuals\n",
    "sns.set(style=\"whitegrid\")\n",
    "plt.rcParams[\"figure.figsize\"] = (10, 5)"
   ]
  },
  {
   "cell_type": "code",
   "execution_count": null,
   "id": "3efb856c-55cf-4c4d-aa1c-24dd6df589c7",
   "metadata": {},
   "outputs": [],
   "source": [
    "#  Indian Startup Funding EDA\n",
    "\n",
    "###  Objective:\n",
    "# To analyze Indian startup funding trends over time and extract insights on top sectors, investors, cities, and overall growth using visualizations."
   ]
  },
  {
   "cell_type": "code",
   "execution_count": 8,
   "id": "25a895d3-e70e-4cf4-957a-750758e6c41b",
   "metadata": {},
   "outputs": [
    {
     "data": {
      "text/html": [
       "<div>\n",
       "<style scoped>\n",
       "    .dataframe tbody tr th:only-of-type {\n",
       "        vertical-align: middle;\n",
       "    }\n",
       "\n",
       "    .dataframe tbody tr th {\n",
       "        vertical-align: top;\n",
       "    }\n",
       "\n",
       "    .dataframe thead th {\n",
       "        text-align: right;\n",
       "    }\n",
       "</style>\n",
       "<table border=\"1\" class=\"dataframe\">\n",
       "  <thead>\n",
       "    <tr style=\"text-align: right;\">\n",
       "      <th></th>\n",
       "      <th>Date</th>\n",
       "      <th>StartupName</th>\n",
       "      <th>CityLocation</th>\n",
       "      <th>IndustryVertical</th>\n",
       "      <th>AmountInUSD</th>\n",
       "      <th>InvestorsName</th>\n",
       "    </tr>\n",
       "  </thead>\n",
       "  <tbody>\n",
       "    <tr>\n",
       "      <th>0</th>\n",
       "      <td>09-11-2019</td>\n",
       "      <td>Paytm</td>\n",
       "      <td>Chennai</td>\n",
       "      <td>E-commerce</td>\n",
       "      <td>1.453572e+08</td>\n",
       "      <td>SoftBank</td>\n",
       "    </tr>\n",
       "    <tr>\n",
       "      <th>1</th>\n",
       "      <td>18-04-2020</td>\n",
       "      <td>Zomato</td>\n",
       "      <td>Hyderabad</td>\n",
       "      <td>Food Delivery</td>\n",
       "      <td>4.649822e+07</td>\n",
       "      <td>Nexus Venture Partners, Kalaari Capital</td>\n",
       "    </tr>\n",
       "    <tr>\n",
       "      <th>2</th>\n",
       "      <td>23-06-2017</td>\n",
       "      <td>Paytm</td>\n",
       "      <td>Chennai</td>\n",
       "      <td>Food Delivery</td>\n",
       "      <td>1.543602e+08</td>\n",
       "      <td>SoftBank, Blume Ventures</td>\n",
       "    </tr>\n",
       "    <tr>\n",
       "      <th>3</th>\n",
       "      <td>25-01-2015</td>\n",
       "      <td>Unacademy</td>\n",
       "      <td>Pune</td>\n",
       "      <td>Travel</td>\n",
       "      <td>1.415470e+08</td>\n",
       "      <td>Kalaari Capital, Nexus Venture Partners, Tiger...</td>\n",
       "    </tr>\n",
       "    <tr>\n",
       "      <th>4</th>\n",
       "      <td>04-08-2015</td>\n",
       "      <td>CureFit</td>\n",
       "      <td>Bangalore</td>\n",
       "      <td>Logistics</td>\n",
       "      <td>5.690570e+07</td>\n",
       "      <td>Tiger Global</td>\n",
       "    </tr>\n",
       "    <tr>\n",
       "      <th>5</th>\n",
       "      <td>06-10-2021</td>\n",
       "      <td>Paytm</td>\n",
       "      <td>Kolkata</td>\n",
       "      <td>E-commerce</td>\n",
       "      <td>9.584877e+07</td>\n",
       "      <td>Sequoia Capital, SoftBank, Matrix Partners</td>\n",
       "    </tr>\n",
       "    <tr>\n",
       "      <th>6</th>\n",
       "      <td>27-11-2015</td>\n",
       "      <td>Meesho</td>\n",
       "      <td>Delhi</td>\n",
       "      <td>Food Delivery</td>\n",
       "      <td>1.347351e+08</td>\n",
       "      <td>SoftBank</td>\n",
       "    </tr>\n",
       "    <tr>\n",
       "      <th>7</th>\n",
       "      <td>24-05-2020</td>\n",
       "      <td>Unacademy</td>\n",
       "      <td>Chennai</td>\n",
       "      <td>Edtech</td>\n",
       "      <td>1.856839e+08</td>\n",
       "      <td>Nexus Venture Partners, Sequoia Capital</td>\n",
       "    </tr>\n",
       "    <tr>\n",
       "      <th>8</th>\n",
       "      <td>01-11-2021</td>\n",
       "      <td>Razorpay</td>\n",
       "      <td>Pune</td>\n",
       "      <td>Food Delivery</td>\n",
       "      <td>8.783429e+07</td>\n",
       "      <td>Nexus Venture Partners, Sequoia Capital</td>\n",
       "    </tr>\n",
       "    <tr>\n",
       "      <th>9</th>\n",
       "      <td>13-09-2022</td>\n",
       "      <td>Byju's</td>\n",
       "      <td>Kolkata</td>\n",
       "      <td>Food Delivery</td>\n",
       "      <td>1.763790e+08</td>\n",
       "      <td>Kalaari Capital</td>\n",
       "    </tr>\n",
       "  </tbody>\n",
       "</table>\n",
       "</div>"
      ],
      "text/plain": [
       "         Date StartupName CityLocation IndustryVertical   AmountInUSD  \\\n",
       "0  09-11-2019       Paytm      Chennai       E-commerce  1.453572e+08   \n",
       "1  18-04-2020      Zomato    Hyderabad    Food Delivery  4.649822e+07   \n",
       "2  23-06-2017       Paytm      Chennai    Food Delivery  1.543602e+08   \n",
       "3  25-01-2015   Unacademy         Pune           Travel  1.415470e+08   \n",
       "4  04-08-2015     CureFit    Bangalore        Logistics  5.690570e+07   \n",
       "5  06-10-2021       Paytm      Kolkata       E-commerce  9.584877e+07   \n",
       "6  27-11-2015      Meesho        Delhi    Food Delivery  1.347351e+08   \n",
       "7  24-05-2020   Unacademy      Chennai           Edtech  1.856839e+08   \n",
       "8  01-11-2021    Razorpay         Pune    Food Delivery  8.783429e+07   \n",
       "9  13-09-2022      Byju's      Kolkata    Food Delivery  1.763790e+08   \n",
       "\n",
       "                                       InvestorsName  \n",
       "0                                           SoftBank  \n",
       "1            Nexus Venture Partners, Kalaari Capital  \n",
       "2                           SoftBank, Blume Ventures  \n",
       "3  Kalaari Capital, Nexus Venture Partners, Tiger...  \n",
       "4                                       Tiger Global  \n",
       "5         Sequoia Capital, SoftBank, Matrix Partners  \n",
       "6                                           SoftBank  \n",
       "7            Nexus Venture Partners, Sequoia Capital  \n",
       "8            Nexus Venture Partners, Sequoia Capital  \n",
       "9                                    Kalaari Capital  "
      ]
     },
     "execution_count": 8,
     "metadata": {},
     "output_type": "execute_result"
    }
   ],
   "source": [
    "# 2. Load the Dataset\n",
    "df = pd.read_csv(r\"C:\\Users\\LEGION\\Desktop\\Py projects\\startup funding\\startup_funding.csv\")\n",
    "df.head(10)"
   ]
  },
  {
   "cell_type": "code",
   "execution_count": 3,
   "id": "459da79b-f495-48db-a16a-82200017166e",
   "metadata": {},
   "outputs": [],
   "source": [
    "###  Data Cleaning\n",
    "# - Standardize column names\n",
    "# - Parse date column\n",
    "# - Clean `amount` values\n",
    "# - Normalize text (city, sector, investor names)"
   ]
  },
  {
   "cell_type": "code",
   "execution_count": 9,
   "id": "c7297a75-5d6a-4f57-82c7-2029ed8ada82",
   "metadata": {},
   "outputs": [
    {
     "data": {
      "text/plain": [
       "79"
      ]
     },
     "execution_count": 9,
     "metadata": {},
     "output_type": "execute_result"
    }
   ],
   "source": [
    "# 3. Clean the Dataset\n",
    "\n",
    "df.columns = df.columns.str.strip().str.lower().str.replace(' ', '_')\n",
    "df['date'] = pd.to_datetime(df['date'], errors='coerce')\n",
    "df['startupname'] = df['startupname'].str.strip()\n",
    "df['citylocation'] = df['citylocation'].str.title().str.strip()\n",
    "df['industryvertical'] = df['industryvertical'].str.title().str.strip()\n",
    "df['amountinusd'] = df['amountinusd'].replace('[\\$,]', '', regex=True).astype(float)\n",
    "\n",
    "# Drop rows with missing critical info\n",
    "df = df.dropna(subset=['date', 'amountinusd'])\n",
    "df.head(10)\n",
    "len(df)"
   ]
  },
  {
   "cell_type": "code",
   "execution_count": 5,
   "id": "2b977f7d-cf5b-4103-8db8-7ead00ccade5",
   "metadata": {},
   "outputs": [],
   "source": [
    "##  Exploratory Data Analysis (EDA)\n",
    "\n",
    "### 1. Funding Trend Over the Years"
   ]
  },
  {
   "cell_type": "code",
   "execution_count": 10,
   "id": "a2578a9c-60b3-4063-a103-a8ce163dcf24",
   "metadata": {},
   "outputs": [
    {
     "data": {
      "image/png": "[encoded data removed]",
      "text/plain": [
       "<Figure size 1000x500 with 1 Axes>"
      ]
     },
     "metadata": {},
     "output_type": "display_data"
    }
   ],
   "source": [
    "# 4. Funding over years\n",
    "\n",
    "df['year'] = df['date'].dt.year\n",
    "yearly_funding = df.groupby('year')['amountinusd'].sum()\n",
    "\n",
    "yearly_funding.plot(kind='bar', color='skyblue')\n",
    "plt.title(\"Total Funding Amount Per Year\")\n",
    "plt.ylabel(\"Amount in USD\")\n",
    "plt.xlabel(\"Year\")\n",
    "plt.xticks(rotation=45)\n",
    "plt.show()"
   ]
  },
  {
   "cell_type": "code",
   "execution_count": 7,
   "id": "5fe328e9-82e0-4959-9cfb-00faf7984211",
   "metadata": {},
   "outputs": [
    {
     "data": {
      "image/png": "[encoded data removed]",
      "text/plain": [
       "<Figure size 1000x500 with 1 Axes>"
      ]
     },
     "metadata": {},
     "output_type": "display_data"
    }
   ],
   "source": [
    "### 2. Most Funded Sectors\n",
    "df['industryvertical'].value_counts().head(10).plot(kind='barh', color='orange')\n",
    "plt.title(\"Top 10 Funded Sectors\")\n",
    "plt.xlabel(\"Number of Startups\")\n",
    "plt.show()"
   ]
  },
  {
   "cell_type": "code",
   "execution_count": 8,
   "id": "7baae5e9-2c92-4987-a6c7-afddc803767d",
   "metadata": {},
   "outputs": [
    {
     "data": {
      "image/png": "[encoded data removed]",
      "text/plain": [
       "<Figure size 1000x500 with 1 Axes>"
      ]
     },
     "metadata": {},
     "output_type": "display_data"
    }
   ],
   "source": [
    "### 3. Top Investors\n",
    "investors = df['investorsname'].dropna().str.split(', ')\n",
    "flat_investors = [inv.strip() for sublist in investors for inv in sublist]\n",
    "top_investors = pd.Series(flat_investors).value_counts().head(10)\n",
    "\n",
    "top_investors.plot(kind='bar', color='green')\n",
    "plt.title(\"Top 10 Investors\")\n",
    "plt.ylabel(\"Number of Investments\")\n",
    "plt.xticks(rotation=45)\n",
    "plt.show()"
   ]
  },
  {
   "cell_type": "code",
   "execution_count": 9,
   "id": "9dd6399c-8d15-4d05-889d-6ceb1e5795e6",
   "metadata": {},
   "outputs": [
    {
     "data": {
      "image/png": "[encoded data removed]",
      "text/plain": [
       "<Figure size 1000x500 with 1 Axes>"
      ]
     },
     "metadata": {},
     "output_type": "display_data"
    }
   ],
   "source": [
    "### 4. Funding Distribution by City\n",
    "df['citylocation'].value_counts().head(10).plot(kind='pie', autopct='%1.1f%%', startangle=140)\n",
    "plt.title(\"Top 10 Cities Receiving Funding\")\n",
    "plt.ylabel('')\n",
    "plt.show()"
   ]
  },
  {
   "cell_type": "code",
   "execution_count": 13,
   "id": "25922f82-7962-41ef-a1fd-25c655ddc7a6",
   "metadata": {},
   "outputs": [
    {
     "data": {
      "application/vnd.plotly.v1+json": {
       "config": {
        "plotlyServerURL": "https://plot.ly"
       },
       "data": [
        {
         "alignmentgroup": "True",
         "hovertemplate": "industryvertical=%{x}<br>amountinusd=%{y}<extra></extra>",
         "legendgroup": "E-Commerce",
         "marker": {
          "color": "#636efa"
         },
         "name": "E-Commerce",
         "notched": false,
         "offsetgroup": "E-Commerce",
         "orientation": "v",
         "showlegend": true,
         "type": "box",
         "x": [
          "E-Commerce",
          "E-Commerce",
          "E-Commerce",
          "E-Commerce",
          "E-Commerce",
          "E-Commerce",
          "E-Commerce",
          "E-Commerce",
          "E-Commerce"
         ],
         "x0": " ",
         "xaxis": "x",
         "y": [
          145357163.4,
          95848768.18,
          104297097.9,
          132030932.2,
          171153865.4,
          27243096.02,
          1233661.84,
          170371314.6,
          13745487.84
         ],
         "y0": " ",
         "yaxis": "y"
        },
        {
         "alignmentgroup": "True",
         "hovertemplate": "industryvertical=%{x}<br>amountinusd=%{y}<extra></extra>",
         "legendgroup": "Logistics",
         "marker": {
          "color": "#EF553B"
         },
         "name": "Logistics",
         "notched": false,
         "offsetgroup": "Logistics",
         "orientation": "v",
         "showlegend": true,
         "type": "box",
         "x": [
          "Logistics",
          "Logistics",
          "Logistics",
          "Logistics",
          "Logistics",
          "Logistics",
          "Logistics"
         ],
         "x0": " ",
         "xaxis": "x",
         "y": [
          56905698.41,
          170976775,
          40493868.07,
          146618029.8,
          81032934.83,
          90975308.42,
          107493343.5
         ],
         "y0": " ",
         "yaxis": "y"
        },
        {
         "alignmentgroup": "True",
         "hovertemplate": "industryvertical=%{x}<br>amountinusd=%{y}<extra></extra>",
         "legendgroup": "Food Delivery",
         "marker": {
          "color": "#00cc96"
         },
         "name": "Food Delivery",
         "notched": false,
         "offsetgroup": "Food Delivery",
         "orientation": "v",
         "showlegend": true,
         "type": "box",
         "x": [
          "Food Delivery",
          "Food Delivery",
          "Food Delivery",
          "Food Delivery",
          "Food Delivery",
          "Food Delivery",
          "Food Delivery",
          "Food Delivery",
          "Food Delivery",
          "Food Delivery",
          "Food Delivery",
          "Food Delivery",
          "Food Delivery",
          "Food Delivery"
         ],
         "x0": " ",
         "xaxis": "x",
         "y": [
          87834290.04,
          153433280.8,
          26056081.35,
          50740475.53,
          118119605.2,
          10781063.98,
          146845034.2,
          152411252.3,
          80946046.79,
          3426213.88,
          93026107.52,
          50563679.81,
          145504039.9,
          55246043.91
         ],
         "y0": " ",
         "yaxis": "y"
        },
        {
         "alignmentgroup": "True",
         "hovertemplate": "industryvertical=%{x}<br>amountinusd=%{y}<extra></extra>",
         "legendgroup": "Edtech",
         "marker": {
          "color": "#ab63fa"
         },
         "name": "Edtech",
         "notched": false,
         "offsetgroup": "Edtech",
         "orientation": "v",
         "showlegend": true,
         "type": "box",
         "x": [
          "Edtech",
          "Edtech",
          "Edtech",
          "Edtech",
          "Edtech",
          "Edtech",
          "Edtech",
          "Edtech",
          "Edtech",
          "Edtech"
         ],
         "x0": " ",
         "xaxis": "x",
         "y": [
          93891597.84,
          127765473.8,
          138198547.1,
          143454691.7,
          47705337.17,
          161379890.3,
          183332605.8,
          72231076.77,
          32710847.17,
          166123344.7
         ],
         "y0": " ",
         "yaxis": "y"
        },
        {
         "alignmentgroup": "True",
         "hovertemplate": "industryvertical=%{x}<br>amountinusd=%{y}<extra></extra>",
         "legendgroup": "Travel",
         "marker": {
          "color": "#FFA15A"
         },
         "name": "Travel",
         "notched": false,
         "offsetgroup": "Travel",
         "orientation": "v",
         "showlegend": true,
         "type": "box",
         "x": [
          "Travel",
          "Travel",
          "Travel",
          "Travel",
          "Travel",
          "Travel"
         ],
         "x0": " ",
         "xaxis": "x",
         "y": [
          190017904.5,
          18852004.87,
          168239015.9,
          11539927.84,
          65010842.81,
          107899478.1
         ],
         "y0": " ",
         "yaxis": "y"
        },
        {
         "alignmentgroup": "True",
         "hovertemplate": "industryvertical=%{x}<br>amountinusd=%{y}<extra></extra>",
         "legendgroup": "Fintech",
         "marker": {
          "color": "#19d3f3"
         },
         "name": "Fintech",
         "notched": false,
         "offsetgroup": "Fintech",
         "orientation": "v",
         "showlegend": true,
         "type": "box",
         "x": [
          "Fintech",
          "Fintech",
          "Fintech",
          "Fintech",
          "Fintech",
          "Fintech",
          "Fintech",
          "Fintech"
         ],
         "x0": " ",
         "xaxis": "x",
         "y": [
          98641417.4,
          55271138.94,
          192286359.8,
          129758140.8,
          185251216.3,
          42557717.41,
          97698254.1,
          66009961.25
         ],
         "y0": " ",
         "yaxis": "y"
        },
        {
         "alignmentgroup": "True",
         "hovertemplate": "industryvertical=%{x}<br>amountinusd=%{y}<extra></extra>",
         "legendgroup": "Healthtech",
         "marker": {
          "color": "#FF6692"
         },
         "name": "Healthtech",
         "notched": false,
         "offsetgroup": "Healthtech",
         "orientation": "v",
         "showlegend": true,
         "type": "box",
         "x": [
          "Healthtech",
          "Healthtech",
          "Healthtech",
          "Healthtech",
          "Healthtech",
          "Healthtech",
          "Healthtech"
         ],
         "x0": " ",
         "xaxis": "x",
         "y": [
          41081143.11,
          177648064.2,
          173978295.7,
          112905900.9,
          150661979.9,
          120340055.9,
          71883068.14
         ],
         "y0": " ",
         "yaxis": "y"
        },
        {
         "alignmentgroup": "True",
         "hovertemplate": "industryvertical=%{x}<br>amountinusd=%{y}<extra></extra>",
         "legendgroup": "Ai",
         "marker": {
          "color": "#B6E880"
         },
         "name": "Ai",
         "notched": false,
         "offsetgroup": "Ai",
         "orientation": "v",
         "showlegend": true,
         "type": "box",
         "x": [
          "Ai",
          "Ai",
          "Ai",
          "Ai",
          "Ai",
          "Ai",
          "Ai",
          "Ai",
          "Ai",
          "Ai"
         ],
         "x0": " ",
         "xaxis": "x",
         "y": [
          100954872.6,
          85246759.02,
          51136706.08,
          152848389.9,
          155824694.3,
          169938374,
          56096796.59,
          198844745,
          145393305.1,
          9172610.35
         ],
         "y0": " ",
         "yaxis": "y"
        },
        {
         "alignmentgroup": "True",
         "hovertemplate": "industryvertical=%{x}<br>amountinusd=%{y}<extra></extra>",
         "legendgroup": "Saas",
         "marker": {
          "color": "#FF97FF"
         },
         "name": "Saas",
         "notched": false,
         "offsetgroup": "Saas",
         "orientation": "v",
         "showlegend": true,
         "type": "box",
         "x": [
          "Saas",
          "Saas",
          "Saas",
          "Saas",
          "Saas"
         ],
         "x0": " ",
         "xaxis": "x",
         "y": [
          27873763.49,
          17113975.97,
          167797424.4,
          62477354.6,
          97946432.31
         ],
         "y0": " ",
         "yaxis": "y"
        },
        {
         "alignmentgroup": "True",
         "hovertemplate": "industryvertical=%{x}<br>amountinusd=%{y}<extra></extra>",
         "legendgroup": "Retail",
         "marker": {
          "color": "#FECB52"
         },
         "name": "Retail",
         "notched": false,
         "offsetgroup": "Retail",
         "orientation": "v",
         "showlegend": true,
         "type": "box",
         "x": [
          "Retail",
          "Retail",
          "Retail"
         ],
         "x0": " ",
         "xaxis": "x",
         "y": [
          82822527.06,
          152625832.5,
          54364004.96
         ],
         "y0": " ",
         "yaxis": "y"
        }
       ],
       "layout": {
        "boxmode": "overlay",
        "legend": {
         "title": {
          "text": "industryvertical"
         },
         "tracegroupgap": 0
        },
        "template": {
         "data": {
          "bar": [
           {
            "error_x": {
             "color": "#2a3f5f"
            },
            "error_y": {
             "color": "#2a3f5f"
            },
            "marker": {
             "line": {
              "color": "#E5ECF6",
              "width": 0.5
             },
             "pattern": {
              "fillmode": "overlay",
              "size": 10,
              "solidity": 0.2
             }
            },
            "type": "bar"
           }
          ],
          "barpolar": [
           {
            "marker": {
             "line": {
              "color": "#E5ECF6",
              "width": 0.5
             },
             "pattern": {
              "fillmode": "overlay",
              "size": 10,
              "solidity": 0.2
             }
            },
            "type": "barpolar"
           }
          ],
          "carpet": [
           {
            "aaxis": {
             "endlinecolor": "#2a3f5f",
             "gridcolor": "white",
             "linecolor": "white",
             "minorgridcolor": "white",
             "startlinecolor": "#2a3f5f"
            },
            "baxis": {
             "endlinecolor": "#2a3f5f",
             "gridcolor": "white",
             "linecolor": "white",
             "minorgridcolor": "white",
             "startlinecolor": "#2a3f5f"
            },
            "type": "carpet"
           }
          ],
          "choropleth": [
           {
            "colorbar": {
             "outlinewidth": 0,
             "ticks": ""
            },
            "type": "choropleth"
           }
          ],
          "contour": [
           {
            "colorbar": {
             "outlinewidth": 0,
             "ticks": ""
            },
            "colorscale": [
             [
              0,
              "#0d0887"
             ],
             [
              0.1111111111111111,
              "#46039f"
             ],
             [
              0.2222222222222222,
              "#7201a8"
             ],
             [
              0.3333333333333333,
              "#9c179e"
             ],
             [
              0.4444444444444444,
              "#bd3786"
             ],
             [
              0.5555555555555556,
              "#d8576b"
             ],
             [
              0.6666666666666666,
              "#ed7953"
             ],
             [
              0.7777777777777778,
              "#fb9f3a"
             ],
             [
              0.8888888888888888,
              "#fdca26"
             ],
             [
              1,
              "#f0f921"
             ]
            ],
            "type": "contour"
           }
          ],
          "contourcarpet": [
           {
            "colorbar": {
             "outlinewidth": 0,
             "ticks": ""
            },
            "type": "contourcarpet"
           }
          ],
          "heatmap": [
           {
            "colorbar": {
             "outlinewidth": 0,
             "ticks": ""
            },
            "colorscale": [
             [
              0,
              "#0d0887"
             ],
             [
              0.1111111111111111,
              "#46039f"
             ],
             [
              0.2222222222222222,
              "#7201a8"
             ],
             [
              0.3333333333333333,
              "#9c179e"
             ],
             [
              0.4444444444444444,
              "#bd3786"
             ],
             [
              0.5555555555555556,
              "#d8576b"
             ],
             [
              0.6666666666666666,
              "#ed7953"
             ],
             [
              0.7777777777777778,
              "#fb9f3a"
             ],
             [
              0.8888888888888888,
              "#fdca26"
             ],
             [
              1,
              "#f0f921"
             ]
            ],
            "type": "heatmap"
           }
          ],
          "heatmapgl": [
           {
            "colorbar": {
             "outlinewidth": 0,
             "ticks": ""
            },
            "colorscale": [
             [
              0,
              "#0d0887"
             ],
             [
              0.1111111111111111,
              "#46039f"
             ],
             [
              0.2222222222222222,
              "#7201a8"
             ],
             [
              0.3333333333333333,
              "#9c179e"
             ],
             [
              0.4444444444444444,
              "#bd3786"
             ],
             [
              0.5555555555555556,
              "#d8576b"
             ],
             [
              0.6666666666666666,
              "#ed7953"
             ],
             [
              0.7777777777777778,
              "#fb9f3a"
             ],
             [
              0.8888888888888888,
              "#fdca26"
             ],
             [
              1,
              "#f0f921"
             ]
            ],
            "type": "heatmapgl"
           }
          ],
          "histogram": [
           {
            "marker": {
             "pattern": {
              "fillmode": "overlay",
              "size": 10,
              "solidity": 0.2
             }
            },
            "type": "histogram"
           }
          ],
          "histogram2d": [
           {
            "colorbar": {
             "outlinewidth": 0,
             "ticks": ""
            },
            "colorscale": [
             [
              0,
              "#0d0887"
             ],
             [
              0.1111111111111111,
              "#46039f"
             ],
             [
              0.2222222222222222,
              "#7201a8"
             ],
             [
              0.3333333333333333,
              "#9c179e"
             ],
             [
              0.4444444444444444,
              "#bd3786"
             ],
             [
              0.5555555555555556,
              "#d8576b"
             ],
             [
              0.6666666666666666,
              "#ed7953"
             ],
             [
              0.7777777777777778,
              "#fb9f3a"
             ],
             [
              0.8888888888888888,
              "#fdca26"
             ],
             [
              1,
              "#f0f921"
             ]
            ],
            "type": "histogram2d"
           }
          ],
          "histogram2dcontour": [
           {
            "colorbar": {
             "outlinewidth": 0,
             "ticks": ""
            },
            "colorscale": [
             [
              0,
              "#0d0887"
             ],
             [
              0.1111111111111111,
              "#46039f"
             ],
             [
              0.2222222222222222,
              "#7201a8"
             ],
             [
              0.3333333333333333,
              "#9c179e"
             ],
             [
              0.4444444444444444,
              "#bd3786"
             ],
             [
              0.5555555555555556,
              "#d8576b"
             ],
             [
              0.6666666666666666,
              "#ed7953"
             ],
             [
              0.7777777777777778,
              "#fb9f3a"
             ],
             [
              0.8888888888888888,
              "#fdca26"
             ],
             [
              1,
              "#f0f921"
             ]
            ],
            "type": "histogram2dcontour"
           }
          ],
          "mesh3d": [
           {
            "colorbar": {
             "outlinewidth": 0,
             "ticks": ""
            },
            "type": "mesh3d"
           }
          ],
          "parcoords": [
           {
            "line": {
             "colorbar": {
              "outlinewidth": 0,
              "ticks": ""
             }
            },
            "type": "parcoords"
           }
          ],
          "pie": [
           {
            "automargin": true,
            "type": "pie"
           }
          ],
          "scatter": [
           {
            "fillpattern": {
             "fillmode": "overlay",
             "size": 10,
             "solidity": 0.2
            },
            "type": "scatter"
           }
          ],
          "scatter3d": [
           {
            "line": {
             "colorbar": {
              "outlinewidth": 0,
              "ticks": ""
             }
            },
            "marker": {
             "colorbar": {
              "outlinewidth": 0,
              "ticks": ""
             }
            },
            "type": "scatter3d"
           }
          ],
          "scattercarpet": [
           {
            "marker": {
             "colorbar": {
              "outlinewidth": 0,
              "ticks": ""
             }
            },
            "type": "scattercarpet"
           }
          ],
          "scattergeo": [
           {
            "marker": {
             "colorbar": {
              "outlinewidth": 0,
              "ticks": ""
             }
            },
            "type": "scattergeo"
           }
          ],
          "scattergl": [
           {
            "marker": {
             "colorbar": {
              "outlinewidth": 0,
              "ticks": ""
             }
            },
            "type": "scattergl"
           }
          ],
          "scattermapbox": [
           {
            "marker": {
             "colorbar": {
              "outlinewidth": 0,
              "ticks": ""
             }
            },
            "type": "scattermapbox"
           }
          ],
          "scatterpolar": [
           {
            "marker": {
             "colorbar": {
              "outlinewidth": 0,
              "ticks": ""
             }
            },
            "type": "scatterpolar"
           }
          ],
          "scatterpolargl": [
           {
            "marker": {
             "colorbar": {
              "outlinewidth": 0,
              "ticks": ""
             }
            },
            "type": "scatterpolargl"
           }
          ],
          "scatterternary": [
           {
            "marker": {
             "colorbar": {
              "outlinewidth": 0,
              "ticks": ""
             }
            },
            "type": "scatterternary"
           }
          ],
          "surface": [
           {
            "colorbar": {
             "outlinewidth": 0,
             "ticks": ""
            },
            "colorscale": [
             [
              0,
              "#0d0887"
             ],
             [
              0.1111111111111111,
              "#46039f"
             ],
             [
              0.2222222222222222,
              "#7201a8"
             ],
             [
              0.3333333333333333,
              "#9c179e"
             ],
             [
              0.4444444444444444,
              "#bd3786"
             ],
             [
              0.5555555555555556,
              "#d8576b"
             ],
             [
              0.6666666666666666,
              "#ed7953"
             ],
             [
              0.7777777777777778,
              "#fb9f3a"
             ],
             [
              0.8888888888888888,
              "#fdca26"
             ],
             [
              1,
              "#f0f921"
             ]
            ],
            "type": "surface"
           }
          ],
          "table": [
           {
            "cells": {
             "fill": {
              "color": "#EBF0F8"
             },
             "line": {
              "color": "white"
             }
            },
            "header": {
             "fill": {
              "color": "#C8D4E3"
             },
             "line": {
              "color": "white"
             }
            },
            "type": "table"
           }
          ]
         },
         "layout": {
          "annotationdefaults": {
           "arrowcolor": "#2a3f5f",
           "arrowhead": 0,
           "arrowwidth": 1
          },
          "autotypenumbers": "strict",
          "coloraxis": {
           "colorbar": {
            "outlinewidth": 0,
            "ticks": ""
           }
          },
          "colorscale": {
           "diverging": [
            [
             0,
             "#8e0152"
            ],
            [
             0.1,
             "#c51b7d"
            ],
            [
             0.2,
             "#de77ae"
            ],
            [
             0.3,
             "#f1b6da"
            ],
            [
             0.4,
             "#fde0ef"
            ],
            [
             0.5,
             "#f7f7f7"
            ],
            [
             0.6,
             "#e6f5d0"
            ],
            [
             0.7,
             "#b8e186"
            ],
            [
             0.8,
             "#7fbc41"
            ],
            [
             0.9,
             "#4d9221"
            ],
            [
             1,
             "#276419"
            ]
           ],
           "sequential": [
            [
             0,
             "#0d0887"
            ],
            [
             0.1111111111111111,
             "#46039f"
            ],
            [
             0.2222222222222222,
             "#7201a8"
            ],
            [
             0.3333333333333333,
             "#9c179e"
            ],
            [
             0.4444444444444444,
             "#bd3786"
            ],
            [
             0.5555555555555556,
             "#d8576b"
            ],
            [
             0.6666666666666666,
             "#ed7953"
            ],
            [
             0.7777777777777778,
             "#fb9f3a"
            ],
            [
             0.8888888888888888,
             "#fdca26"
            ],
            [
             1,
             "#f0f921"
            ]
           ],
           "sequentialminus": [
            [
             0,
             "#0d0887"
            ],
            [
             0.1111111111111111,
             "#46039f"
            ],
            [
             0.2222222222222222,
             "#7201a8"
            ],
            [
             0.3333333333333333,
             "#9c179e"
            ],
            [
             0.4444444444444444,
             "#bd3786"
            ],
            [
             0.5555555555555556,
             "#d8576b"
            ],
            [
             0.6666666666666666,
             "#ed7953"
            ],
            [
             0.7777777777777778,
             "#fb9f3a"
            ],
            [
             0.8888888888888888,
             "#fdca26"
            ],
            [
             1,
             "#f0f921"
            ]
           ]
          },
          "colorway": [
           "#636efa",
           "#EF553B",
           "#00cc96",
           "#ab63fa",
           "#FFA15A",
           "#19d3f3",
           "#FF6692",
           "#B6E880",
           "#FF97FF",
           "#FECB52"
          ],
          "font": {
           "color": "#2a3f5f"
          },
          "geo": {
           "bgcolor": "white",
           "lakecolor": "white",
           "landcolor": "#E5ECF6",
           "showlakes": true,
           "showland": true,
           "subunitcolor": "white"
          },
          "hoverlabel": {
           "align": "left"
          },
          "hovermode": "closest",
          "mapbox": {
           "style": "light"
          },
          "paper_bgcolor": "white",
          "plot_bgcolor": "#E5ECF6",
          "polar": {
           "angularaxis": {
            "gridcolor": "white",
            "linecolor": "white",
            "ticks": ""
           },
           "bgcolor": "#E5ECF6",
           "radialaxis": {
            "gridcolor": "white",
            "linecolor": "white",
            "ticks": ""
           }
          },
          "scene": {
           "xaxis": {
            "backgroundcolor": "#E5ECF6",
            "gridcolor": "white",
            "gridwidth": 2,
            "linecolor": "white",
            "showbackground": true,
            "ticks": "",
            "zerolinecolor": "white"
           },
           "yaxis": {
            "backgroundcolor": "#E5ECF6",
            "gridcolor": "white",
            "gridwidth": 2,
            "linecolor": "white",
            "showbackground": true,
            "ticks": "",
            "zerolinecolor": "white"
           },
           "zaxis": {
            "backgroundcolor": "#E5ECF6",
            "gridcolor": "white",
            "gridwidth": 2,
            "linecolor": "white",
            "showbackground": true,
            "ticks": "",
            "zerolinecolor": "white"
           }
          },
          "shapedefaults": {
           "line": {
            "color": "#2a3f5f"
           }
          },
          "ternary": {
           "aaxis": {
            "gridcolor": "white",
            "linecolor": "white",
            "ticks": ""
           },
           "baxis": {
            "gridcolor": "white",
            "linecolor": "white",
            "ticks": ""
           },
           "bgcolor": "#E5ECF6",
           "caxis": {
            "gridcolor": "white",
            "linecolor": "white",
            "ticks": ""
           }
          },
          "title": {
           "x": 0.05
          },
          "xaxis": {
           "automargin": true,
           "gridcolor": "white",
           "linecolor": "white",
           "ticks": "",
           "title": {
            "standoff": 15
           },
           "zerolinecolor": "white",
           "zerolinewidth": 2
          },
          "yaxis": {
           "automargin": true,
           "gridcolor": "white",
           "linecolor": "white",
           "ticks": "",
           "title": {
            "standoff": 15
           },
           "zerolinecolor": "white",
           "zerolinewidth": 2
          }
         }
        },
        "title": {
         "text": "Funding Amounts Across Top Sectors"
        },
        "xaxis": {
         "anchor": "y",
         "categoryarray": [
          "E-Commerce",
          "Logistics",
          "Food Delivery",
          "Edtech",
          "Travel",
          "Fintech",
          "Healthtech",
          "Ai",
          "Saas",
          "Retail"
         ],
         "categoryorder": "array",
         "domain": [
          0,
          1
         ],
         "title": {
          "text": "industryvertical"
         }
        },
        "yaxis": {
         "anchor": "x",
         "domain": [
          0,
          1
         ],
         "title": {
          "text": "amountinusd"
         }
        }
       }
      }
     },
     "metadata": {},
     "output_type": "display_data"
    }
   ],
   "source": [
    "### 5. Interactive Plot (Plotly)\n",
    "top_sectors = df['industryvertical'].value_counts().head(10).index\n",
    "top_sector_df = df[df['industryvertical'].isin(top_sectors)]\n",
    "fig = px.box(top_sector_df, x='industryvertical', y='amountinusd', color='industryvertical',title='Funding Amounts Across Top Sectors')\n",
    "fig.write_html(\"Visuals/5. funding_top_sectors_boxplot.html\")\n",
    "fig.show()"
   ]
  }
 ],
 "metadata": {
  "kernelspec": {
   "display_name": "base",
   "language": "python",
   "name": "python3"
  },
  "language_info": {
   "codemirror_mode": {
    "name": "ipython",
    "version": 3
   },
   "file_extension": ".py",
   "mimetype": "text/x-python",
   "name": "python",
   "nbconvert_exporter": "python",
   "pygments_lexer": "ipython3",
   "version": "3.13.5"
  }
 },
 "nbformat": 4,
 "nbformat_minor": 5
}
